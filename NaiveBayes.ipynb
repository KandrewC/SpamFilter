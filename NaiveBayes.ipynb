{
 "cells": [
  {
   "cell_type": "code",
   "execution_count": 1,
   "metadata": {},
   "outputs": [],
   "source": [
    "# Andrew Kan, Govind Pillai"
   ]
  },
  {
   "cell_type": "code",
   "execution_count": 79,
   "metadata": {},
   "outputs": [],
   "source": [
    "# Initialization\n",
    "import pandas as pd\n",
    "import numpy as np\n",
    "import nltk\n",
    "import string\n",
    "lemmatizer = WordNetLemmatizer()\n",
    "np.set_printoptions(threshold=np.nan)\n",
    "\n",
    "\n",
    "translator = str.maketrans('', '', string.punctuation)\n",
    "\n",
    "# Read in data, drop unimportant columns and rename column names to be more descriptive\n",
    "\n",
    "emails_df = pd.read_csv(\"./data/spam.csv\", encoding= \"ISO-8859-1\")\n",
    "emails_df = emails_df.drop([\"Unnamed: 2\", \"Unnamed: 3\", \"Unnamed: 4\"], axis=1)\n",
    "emails_df.columns = ['type', 'body']\n",
    "\n",
    "emails_smalldf = emails_df.head(5)\n",
    "\n",
    "stop_words = [\"hi\"]\n",
    "\n",
    "def clean(word) :\n",
    "    cleaned_word = word.translate(translator)\n",
    "    cleaned_word = lemmatizer.lemmatize(cleaned_word)\n",
    "    return cleaned_word"
   ]
  },
  {
   "cell_type": "code",
   "execution_count": 80,
   "metadata": {},
   "outputs": [
    {
     "name": "stdout",
     "output_type": "stream",
     "text": [
      "[[3. 2. 0. 2. 4. 0. 1. 0. 0. 0. 0.]\n",
      " [0. 0. 0. 0. 0. 0. 0. 4. 1. 0. 0.]\n",
      " [2. 0. 1. 0. 0. 0. 0. 0. 0. 1. 0.]\n",
      " [0. 0. 0. 0. 0. 0. 0. 0. 0. 0. 1.]\n",
      " [0. 0. 0. 0. 0. 1. 0. 0. 0. 0. 0.]]\n"
     ]
    }
   ],
   "source": [
    "word_dict = {}\n",
    "for i, email in emails_smalldf.iterrows():\n",
    "    for word in email['body'].split():\n",
    "        # Remove punctuation and lemmatize\n",
    "        cleaned_word = clean(word)\n",
    "    \n",
    "        if word in word_dict.keys(): \n",
    "            word_dict[cleaned_word] += 1\n",
    "        else: \n",
    "            word_dict[cleaned_word] = 1\n",
    "\n",
    "# Remove stop words      \n",
    "\n",
    "for key in list(word_dict):\n",
    "    if key in stop_words:\n",
    "        del word_dict[key]\n",
    "# word_dict\n",
    "\n",
    "\n",
    "# make feature vectors\n",
    "dictionary_keys = sorted(word_dict.keys(), key=str.lower)\n",
    "emails_smalldf.shape[0]\n",
    "feature_vector = np.zeros((emails_smalldf.shape[0], len(dictionary_keys)))\n",
    "for i, email in emails_smalldf.iterrows():\n",
    "#     word_vector = np.zeros(len(dictionary_keys))\n",
    "    for word in email['body'].split():\n",
    "        cleaned_word = clean(word)\n",
    "        if cleaned_word in dictionary_keys and cleaned_word not in stop_words:\n",
    "            feature_vector[i, list(dictionary_keys).index(cleaned_word)] += 1\n",
    "print(feature_vector)\n",
    "\n",
    "\n",
    "# word_vector"
   ]
  },
  {
   "cell_type": "code",
   "execution_count": 8,
   "metadata": {},
   "outputs": [
    {
     "name": "stdout",
     "output_type": "stream",
     "text": [
      "[nltk_data] Downloading package wordnet to\n",
      "[nltk_data]     /Users/govindpillai/nltk_data...\n",
      "[nltk_data]   Unzipping corpora/wordnet.zip.\n"
     ]
    },
    {
     "data": {
      "text/plain": [
       "True"
      ]
     },
     "execution_count": 8,
     "metadata": {},
     "output_type": "execute_result"
    }
   ],
   "source": [
    "nltk.download(\"wordnet\")"
   ]
  },
  {
   "cell_type": "markdown",
   "metadata": {},
   "source": []
  }
 ],
 "metadata": {
  "kernelspec": {
   "display_name": "Python 3",
   "language": "python",
   "name": "python3"
  },
  "language_info": {
   "codemirror_mode": {
    "name": "ipython",
    "version": 3
   },
   "file_extension": ".py",
   "mimetype": "text/x-python",
   "name": "python",
   "nbconvert_exporter": "python",
   "pygments_lexer": "ipython3",
   "version": "3.6.4"
  }
 },
 "nbformat": 4,
 "nbformat_minor": 2
}
