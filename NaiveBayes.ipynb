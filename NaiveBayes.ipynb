{
 "cells": [
  {
   "cell_type": "code",
   "execution_count": 1,
   "metadata": {},
   "outputs": [],
   "source": [
    "# Andrew Kan, Govind Pillai"
   ]
  },
  {
   "cell_type": "code",
   "execution_count": 7,
   "metadata": {},
   "outputs": [],
   "source": [
    "# Initialization\n",
    "import pandas as pd\n",
    "import numpy as np\n",
    "import nltk\n",
    "import string\n",
    "lemmatizer = WordNetLemmatizer()\n",
    "np.set_printoptions(threshold=np.nan)\n",
    "from sklearn.model_selection import train_test_split\n",
    "from sklearn.naive_bayes import MultinomialNB, GaussianNB\n",
    "from sklearn.metrics import accuracy_score\n",
    "translator = str.maketrans('', '', string.punctuation)\n",
    "\n",
    "# Read in data, drop unimportant columns and rename column names to be more descriptive\n",
    "\n",
    "emails_df = pd.read_csv(\"./data/spam.csv\", encoding= \"ISO-8859-1\")\n",
    "emails_df = emails_df.drop([\"Unnamed: 2\", \"Unnamed: 3\", \"Unnamed: 4\"], axis=1)\n",
    "emails_df.columns = ['type', 'body']\n",
    "\n",
    "for i, email in emails_df.iterrows():\n",
    "#     print(email['type'])\n",
    "    if email['type'] == \"ham\":\n",
    "        email['type'] = 0\n",
    "    else: \n",
    "        email['type'] = 1\n",
    "\n",
    "emails_smalldf = emails_df\n",
    "\n",
    "stop_words = [\"hi\"]\n",
    "\n",
    "def clean(word) :\n",
    "    cleaned_word = word.translate(translator)\n",
    "    cleaned_word = lemmatizer.lemmatize(cleaned_word)\n",
    "    return cleaned_word\n"
   ]
  },
  {
   "cell_type": "code",
   "execution_count": 9,
   "metadata": {},
   "outputs": [
    {
     "name": "stdout",
     "output_type": "stream",
     "text": [
      "0.9233695652173913\n"
     ]
    }
   ],
   "source": [
    "word_dict = {}\n",
    "for i, email in emails_smalldf.iterrows():\n",
    "    for word in email['body'].split():\n",
    "        # Remove punctuation and lemmatize\n",
    "        cleaned_word = clean(word)\n",
    "    \n",
    "        if word in word_dict.keys(): \n",
    "            word_dict[cleaned_word] += 1\n",
    "        else: \n",
    "            word_dict[cleaned_word] = 1\n",
    "            \n",
    "#remove stopwords       \n",
    "for key in list(word_dict):\n",
    "    if key in stop_words:\n",
    "        del word_dict[key]\n",
    "\n",
    "# make feature vectors\n",
    "dictionary_keys = sorted(word_dict.keys(), key=str.lower)\n",
    "emails_smalldf.shape[0]\n",
    "feature_vector = np.zeros((emails_smalldf.shape[0], len(dictionary_keys)))\n",
    "for i, email in emails_smalldf.iterrows():\n",
    "    for word in email['body'].split():\n",
    "        cleaned_word = clean(word)\n",
    "        if cleaned_word in dictionary_keys and cleaned_word not in stop_words:\n",
    "            feature_vector[i, list(dictionary_keys).index(cleaned_word)] += 1\n",
    "\n",
    "# Split training data and change to int types\n",
    "X_train, X_test, y_train, y_test = train_test_split(feature_vector, emails_smalldf['type'], test_size=0.33, random_state=42)\n",
    "y_train = y_train.astype('int')\n",
    "y_test = y_test.astype('int')\n",
    "\n",
    "# Gaussian Naive Bayes\n",
    "gnb = GaussianNB()\n",
    "\n",
    "# Fit and Predict\n",
    "model = gnb.fit(X_train, y_train)\n",
    "preds = gnb.predict(X_test)\n",
    "\n",
    "# Check Accuracy\n",
    "print(accuracy_score(y_test, preds))\n"
   ]
  },
  {
   "cell_type": "code",
   "execution_count": null,
   "metadata": {},
   "outputs": [],
   "source": [
    "\n"
   ]
  },
  {
   "cell_type": "markdown",
   "metadata": {},
   "source": []
  }
 ],
 "metadata": {
  "kernelspec": {
   "display_name": "Python 3",
   "language": "python",
   "name": "python3"
  },
  "language_info": {
   "codemirror_mode": {
    "name": "ipython",
    "version": 3
   },
   "file_extension": ".py",
   "mimetype": "text/x-python",
   "name": "python",
   "nbconvert_exporter": "python",
   "pygments_lexer": "ipython3",
   "version": "3.6.4"
  }
 },
 "nbformat": 4,
 "nbformat_minor": 2
}
