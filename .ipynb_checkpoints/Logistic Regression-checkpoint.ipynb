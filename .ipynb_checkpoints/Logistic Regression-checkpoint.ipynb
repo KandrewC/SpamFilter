{
 "cells": [
  {
   "cell_type": "code",
   "execution_count": 49,
   "metadata": {},
   "outputs": [
    {
     "name": "stdout",
     "output_type": "stream",
     "text": [
      "0.9720229555236729\n",
      "Execution takes 0.8141522407531738 seconds\n"
     ]
    }
   ],
   "source": [
    "# Importing packages \n",
    "import pandas as pd\n",
    "import numpy as np\n",
    "import nltk\n",
    "from sklearn.feature_extraction.text import TfidfVectorizer\n",
    "from sklearn.linear_model.logistic import LogisticRegression\n",
    "from sklearn.model_selection import train_test_split, cross_val_score\n",
    "from sklearn.metrics import accuracy_score\n",
    "lemmatizer = nltk.WordNetLemmatizer()\n",
    "\n",
    "\n",
    "import time\n",
    "\n",
    "\n",
    "start_time = time.time()\n",
    "\n",
    "# Reading in test data and changing column names.\n",
    "emails_df = pd.read_csv('./data/spam.csv', encoding= \"ISO-8859-1\")\n",
    "emails_df = emails_df.drop([\"Unnamed: 2\", \"Unnamed: 3\", \"Unnamed: 4\"], axis=1)\n",
    "emails_df.columns = ['type', 'body']\n",
    "\n",
    "for i, email in emails_df.iterrows():\n",
    "    if email['type'] == \"ham\":\n",
    "        email['type'] = 0\n",
    "    else: \n",
    "        email['type'] = 1\n",
    "\n",
    "\n",
    "emails_smalldf = emails_df\n",
    "\n",
    "# Split data and convert into integer in order to have binary values\n",
    "X_train_raw, X_test_raw, y_train, y_test = train_test_split(emails_smalldf['body'],emails_smalldf['type'])\n",
    "y_train = y_train.astype('int')\n",
    "y_test = y_test.astype('int')\n",
    "\n",
    "# Create vectorizer to have tfidf featuers\n",
    "vectorizer = TfidfVectorizer()\n",
    "\n",
    "X_train = vectorizer.fit_transform(X_train_raw)\n",
    "\n",
    "# Create logistic regression classifier to fit data.\n",
    "log_classifier = LogisticRegression()\n",
    "log_classifier.fit(X_train, y_train)\n",
    " \n",
    "X_test = vectorizer.transform( X_test_raw)\n",
    "predictions = log_classifier.predict(X_test)\n",
    "\n",
    "print(accuracy_score(y_test, predictions))\n",
    "print(\"Execution takes %s seconds\"% (time.time() - start_time))\n",
    "\n"
   ]
  },
  {
   "cell_type": "code",
   "execution_count": null,
   "metadata": {
    "collapsed": true
   },
   "outputs": [],
   "source": []
  }
 ],
 "metadata": {
  "kernelspec": {
   "display_name": "Python 3",
   "language": "python",
   "name": "python3"
  },
  "language_info": {
   "codemirror_mode": {
    "name": "ipython",
    "version": 3
   },
   "file_extension": ".py",
   "mimetype": "text/x-python",
   "name": "python",
   "nbconvert_exporter": "python",
   "pygments_lexer": "ipython3",
   "version": "3.6.4"
  }
 },
 "nbformat": 4,
 "nbformat_minor": 2
}
