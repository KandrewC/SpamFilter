{
 "cells": [
  {
   "cell_type": "code",
   "execution_count": 1,
   "metadata": {},
   "outputs": [],
   "source": [
    "# Andrew Kan, Govind Pillai"
   ]
  },
  {
   "cell_type": "code",
   "execution_count": 203,
   "metadata": {},
   "outputs": [],
   "source": [
    "# Initialization\n",
    "import pandas as pd\n",
    "from nltk.stem import WordNetLemmatizer\n",
    "import string\n",
    "lemmatizer = WordNetLemmatizer()\n",
    "\n",
    "\n",
    "translator = str.maketrans('', '', string.punctuation)\n",
    "\n",
    "# Read in data, drop unimportant columns and rename column names to be more descriptive\n",
    "\n",
    "emails_df = pd.read_csv(\"./data/spam.csv\", encoding= \"ISO-8859-1\")\n",
    "emails_df = emails_df.drop([\"Unnamed: 2\", \"Unnamed: 3\", \"Unnamed: 4\"], axis=1)\n",
    "emails_df.columns = ['type', 'body']\n",
    "\n",
    "emails_smalldf = emails_df.head(1)\n",
    "\n",
    "stop_words = [\"and\"]\n",
    "\n"
   ]
  },
  {
   "cell_type": "code",
   "execution_count": 206,
   "metadata": {},
   "outputs": [
    {
     "data": {
      "text/plain": [
       "{'andrew': 1,\n",
       " 'are': 1,\n",
       " 'car': 1,\n",
       " 'coding': 1,\n",
       " 'friend': 1,\n",
       " 'govind': 1,\n",
       " 'hi': 1,\n",
       " 'is': 2,\n",
       " 'my': 2,\n",
       " 'name': 1,\n",
       " 'this': 1,\n",
       " 'we': 1}"
      ]
     },
     "execution_count": 206,
     "metadata": {},
     "output_type": "execute_result"
    }
   ],
   "source": [
    "word_dict = {}\n",
    "for i, email in emails_smalldf.iterrows():\n",
    "    for word in email['body'].split():\n",
    "        # Remove punctuation and lemmatize\n",
    "        cleaned_word = word.translate(translator)\n",
    "        cleaned_word = lemmatizer.lemmatize(cleaned_word)\n",
    "        if word in word_dict.keys(): \n",
    "            word_dict[cleaned_word] += 1\n",
    "        else: \n",
    "            word_dict[cleaned_word] = 1\n",
    "\n",
    "# Remove stop words      \n",
    "\n",
    "for key in list(word_dict):\n",
    "    if key in stop_words:\n",
    "        del word_dict[key]\n",
    "word_dict\n",
    "\n",
    "\n"
   ]
  },
  {
   "cell_type": "code",
   "execution_count": null,
   "metadata": {},
   "outputs": [],
   "source": []
  },
  {
   "cell_type": "markdown",
   "metadata": {},
   "source": []
  }
 ],
 "metadata": {
  "kernelspec": {
   "display_name": "Python 3",
   "language": "python",
   "name": "python3"
  },
  "language_info": {
   "codemirror_mode": {
    "name": "ipython",
    "version": 3
   },
   "file_extension": ".py",
   "mimetype": "text/x-python",
   "name": "python",
   "nbconvert_exporter": "python",
   "pygments_lexer": "ipython3",
   "version": "3.6.4"
  }
 },
 "nbformat": 4,
 "nbformat_minor": 2
}
